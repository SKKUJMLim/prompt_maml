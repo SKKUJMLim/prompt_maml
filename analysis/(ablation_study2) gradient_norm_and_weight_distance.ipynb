{
 "cells": [
  {
   "cell_type": "code",
   "execution_count": 37,
   "id": "279d761f",
   "metadata": {},
   "outputs": [
    {
     "name": "stdout",
     "output_type": "stream",
     "text": [
      "The autoreload extension is already loaded. To reload it, use:\n",
      "  %reload_ext autoreload\n"
     ]
    }
   ],
   "source": [
    "%load_ext autoreload\n",
    "%autoreload 2\n",
    "\n",
    "import torch\n",
    "import torch.nn.functional as F\n",
    "import cv2\n",
    "import numpy as np\n",
    "import matplotlib.pyplot as plt\n",
    "import numpy as np\n",
    "from pytorchcv.model_provider import get_model as ptcv_get_model # model\n",
    "import sys, os\n",
    "import easydict\n",
    "import torch.backends.cudnn as cudnn\n",
    "import torchvision.models as models\n",
    "import torchvision.transforms as transforms\n",
    "from torch.utils.data import DataLoader\n",
    "from torchvision.datasets import CIFAR100\n",
    "import torch.nn.functional as F\n",
    "import matplotlib.pyplot as plt\n",
    "import torch.optim as optim\n",
    "import matplotlib.pyplot as plt\n",
    "#%matplotlib inline \n",
    "\n",
    "# enable cuda devices\n",
    "import os    \n",
    "os.environ['KMP_DUPLICATE_LIB_OK']='True'\n",
    "\n",
    "module_path = os.path.abspath(os.path.join('..'))\n",
    "if module_path not in sys.path:\n",
    "    sys.path.append(module_path)\n",
    "\n",
    "from meta_neural_network_architectures import VGGReLUNormNetwork, ResNet12\n",
    "from utils.parser_utils import get_args\n",
    "from data import MetaLearningSystemDataLoader\n",
    "from experiment_builder import ExperimentBuilder\n",
    "from utils.basic import show_batch\n",
    "from few_shot_learning_system import MAMLFewShotClassifier\n",
    "import prompters\n",
    "import torchvision.transforms as T\n",
    "\n",
    "from data_augmentation import mixup_data, cutmix_data, random_flip, random_flip_like_torchvision\n",
    "from torchvision.transforms.functional import to_pil_image"
   ]
  },
  {
   "cell_type": "code",
   "execution_count": 59,
   "id": "03fd803c",
   "metadata": {},
   "outputs": [],
   "source": [
    "def make_random_init_params(reference_params):\n",
    "    random_init = {}\n",
    "    for key, value in reference_params.items():\n",
    "        if (\n",
    "            'layer_dict' in key and\n",
    "            'prompt' not in key and\n",
    "            'norm_layer' not in key and\n",
    "            'inner_loop_optimizer' not in key\n",
    "        ):\n",
    "            random_init[key] = torch.randn_like(value)\n",
    "    return random_init\n",
    "\n",
    "def get_model_distance_from_fixed_random_init(random_init_params, checkpoint_dir, checkpoint_names, device='cpu'):\n",
    "    distances = []\n",
    "\n",
    "    for ckpt_name in checkpoint_names:\n",
    "        ckpt_path = os.path.join(checkpoint_dir, ckpt_name)\n",
    "        ckpt = torch.load(ckpt_path, map_location=device)\n",
    "        current_params = ckpt['network']\n",
    "\n",
    "        total_distance = 0.0\n",
    "        for key in random_init_params.keys():\n",
    "            p0 = random_init_params[key].float()\n",
    "            pt = current_params[key].float()\n",
    "            total_distance += torch.norm(p0 - pt).item() ** 2\n",
    "\n",
    "        distances.append(np.sqrt(total_distance))\n",
    "\n",
    "    return distances\n",
    "\n",
    "def plot_model_distance(epochs, dist1, dist2, label1='Ours', label2='Baseline'):\n",
    "    plt.plot(epochs, dist1, marker='o', label=label1)\n",
    "    plt.plot(epochs, dist2, marker='s', label=label2)\n",
    "    plt.xticks(epochs)\n",
    "    plt.xlabel('Epoch')\n",
    "    plt.ylabel('Model Distance from Random Initialization')\n",
    "    plt.title('Model Distance Comparison')\n",
    "    plt.grid(True)\n",
    "    plt.legend()\n",
    "    plt.tight_layout()\n",
    "    plt.show()"
   ]
  },
  {
   "cell_type": "code",
   "execution_count": 60,
   "id": "ed6c2249",
   "metadata": {},
   "outputs": [
    {
     "ename": "RuntimeError",
     "evalue": "The size of tensor a (128) must match the size of tensor b (64) at non-singleton dimension 0",
     "output_type": "error",
     "traceback": [
      "\u001b[1;31m---------------------------------------------------------------------------\u001b[0m",
      "\u001b[1;31mRuntimeError\u001b[0m                              Traceback (most recent call last)",
      "\u001b[1;32m~\\AppData\\Local\\Temp\\ipykernel_35804\\1896019528.py\u001b[0m in \u001b[0;36m<module>\u001b[1;34m\u001b[0m\n\u001b[0;32m     15\u001b[0m \u001b[1;31m# distance 계산\u001b[0m\u001b[1;33m\u001b[0m\u001b[1;33m\u001b[0m\u001b[1;33m\u001b[0m\u001b[0m\n\u001b[0;32m     16\u001b[0m \u001b[0mprompt_dist\u001b[0m \u001b[1;33m=\u001b[0m \u001b[0mget_model_distance_from_fixed_random_init\u001b[0m\u001b[1;33m(\u001b[0m\u001b[0mrandom_init_params\u001b[0m\u001b[1;33m,\u001b[0m \u001b[0mprompt_ckpt_dir\u001b[0m\u001b[1;33m,\u001b[0m \u001b[0mprompt_checkpoints\u001b[0m\u001b[1;33m)\u001b[0m\u001b[1;33m\u001b[0m\u001b[1;33m\u001b[0m\u001b[0m\n\u001b[1;32m---> 17\u001b[1;33m \u001b[0mbaseline_dist\u001b[0m \u001b[1;33m=\u001b[0m \u001b[0mget_model_distance_from_fixed_random_init\u001b[0m\u001b[1;33m(\u001b[0m\u001b[0mrandom_init_params\u001b[0m\u001b[1;33m,\u001b[0m \u001b[0mbaseline_ckpt_dir\u001b[0m\u001b[1;33m,\u001b[0m \u001b[0mbaseline_checkpoints\u001b[0m\u001b[1;33m)\u001b[0m\u001b[1;33m\u001b[0m\u001b[1;33m\u001b[0m\u001b[0m\n\u001b[0m\u001b[0;32m     18\u001b[0m \u001b[1;33m\u001b[0m\u001b[0m\n\u001b[0;32m     19\u001b[0m \u001b[1;31m# 시각화\u001b[0m\u001b[1;33m\u001b[0m\u001b[1;33m\u001b[0m\u001b[1;33m\u001b[0m\u001b[0m\n",
      "\u001b[1;32m~\\AppData\\Local\\Temp\\ipykernel_35804\\1347987521.py\u001b[0m in \u001b[0;36mget_model_distance_from_fixed_random_init\u001b[1;34m(random_init_params, checkpoint_dir, checkpoint_names, device)\u001b[0m\n\u001b[0;32m     23\u001b[0m             \u001b[0mp0\u001b[0m \u001b[1;33m=\u001b[0m \u001b[0mrandom_init_params\u001b[0m\u001b[1;33m[\u001b[0m\u001b[0mkey\u001b[0m\u001b[1;33m]\u001b[0m\u001b[1;33m.\u001b[0m\u001b[0mfloat\u001b[0m\u001b[1;33m(\u001b[0m\u001b[1;33m)\u001b[0m\u001b[1;33m\u001b[0m\u001b[1;33m\u001b[0m\u001b[0m\n\u001b[0;32m     24\u001b[0m             \u001b[0mpt\u001b[0m \u001b[1;33m=\u001b[0m \u001b[0mcurrent_params\u001b[0m\u001b[1;33m[\u001b[0m\u001b[0mkey\u001b[0m\u001b[1;33m]\u001b[0m\u001b[1;33m.\u001b[0m\u001b[0mfloat\u001b[0m\u001b[1;33m(\u001b[0m\u001b[1;33m)\u001b[0m\u001b[1;33m\u001b[0m\u001b[1;33m\u001b[0m\u001b[0m\n\u001b[1;32m---> 25\u001b[1;33m             \u001b[0mtotal_distance\u001b[0m \u001b[1;33m+=\u001b[0m \u001b[0mtorch\u001b[0m\u001b[1;33m.\u001b[0m\u001b[0mnorm\u001b[0m\u001b[1;33m(\u001b[0m\u001b[0mp0\u001b[0m \u001b[1;33m-\u001b[0m \u001b[0mpt\u001b[0m\u001b[1;33m)\u001b[0m\u001b[1;33m.\u001b[0m\u001b[0mitem\u001b[0m\u001b[1;33m(\u001b[0m\u001b[1;33m)\u001b[0m \u001b[1;33m**\u001b[0m \u001b[1;36m2\u001b[0m\u001b[1;33m\u001b[0m\u001b[1;33m\u001b[0m\u001b[0m\n\u001b[0m\u001b[0;32m     26\u001b[0m \u001b[1;33m\u001b[0m\u001b[0m\n\u001b[0;32m     27\u001b[0m         \u001b[0mdistances\u001b[0m\u001b[1;33m.\u001b[0m\u001b[0mappend\u001b[0m\u001b[1;33m(\u001b[0m\u001b[0mnp\u001b[0m\u001b[1;33m.\u001b[0m\u001b[0msqrt\u001b[0m\u001b[1;33m(\u001b[0m\u001b[0mtotal_distance\u001b[0m\u001b[1;33m)\u001b[0m\u001b[1;33m)\u001b[0m\u001b[1;33m\u001b[0m\u001b[1;33m\u001b[0m\u001b[0m\n",
      "\u001b[1;31mRuntimeError\u001b[0m: The size of tensor a (128) must match the size of tensor b (64) at non-singleton dimension 0"
     ]
    }
   ],
   "source": [
    "# 실험 세팅\n",
    "prompt_ckpt_dir = '../only_mixup_MAML_Prompt_padding_5way_5shot_filter128_miniImagenet/saved_models'\n",
    "baseline_ckpt_dir = '../MAML_5way_5shot_filter64_miniImagenet/saved_models'\n",
    "\n",
    "# 공통된 epoch 리스트 생성\n",
    "epochs = list(range(1, 10))\n",
    "prompt_checkpoints = [f\"train_model_{e}\" for e in epochs]\n",
    "baseline_checkpoints = [f\"train_model_{e}\" for e in epochs]\n",
    "\n",
    "# 기준 파라미터 추출\n",
    "sample_ckpt = torch.load(os.path.join(prompt_ckpt_dir, 'train_model_1'), map_location='cpu')\n",
    "reference_params = sample_ckpt['network']\n",
    "random_init_params = make_random_init_params(reference_params)\n",
    "\n",
    "# distance 계산\n",
    "prompt_dist = get_model_distance_from_fixed_random_init(random_init_params, prompt_ckpt_dir, prompt_checkpoints)\n",
    "baseline_dist = get_model_distance_from_fixed_random_init(random_init_params, baseline_ckpt_dir, baseline_checkpoints)\n",
    "\n",
    "# 시각화\n",
    "plot_model_distance(epochs, prompt_dist, baseline_dist, label1='Prompt', label2='MAML')\n"
   ]
  },
  {
   "cell_type": "code",
   "execution_count": null,
   "id": "1848b53a",
   "metadata": {},
   "outputs": [],
   "source": []
  }
 ],
 "metadata": {
  "kernelspec": {
   "display_name": "Python 3 (ipykernel)",
   "language": "python",
   "name": "python3"
  },
  "language_info": {
   "codemirror_mode": {
    "name": "ipython",
    "version": 3
   },
   "file_extension": ".py",
   "mimetype": "text/x-python",
   "name": "python",
   "nbconvert_exporter": "python",
   "pygments_lexer": "ipython3",
   "version": "3.7.16"
  }
 },
 "nbformat": 4,
 "nbformat_minor": 5
}
