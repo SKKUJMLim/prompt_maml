{
  "nbformat": 4,
  "nbformat_minor": 0,
  "metadata": {
    "colab": {
      "provenance": []
    },
    "kernelspec": {
      "name": "python3",
      "display_name": "Python 3"
    },
    "language_info": {
      "name": "python"
    }
  },
  "cells": [
    {
      "cell_type": "code",
      "source": [
        "import matplotlib.pyplot as plt\n",
        "import numpy as np\n",
        "import torch\n",
        "import torch.nn.functional as F\n",
        "import itertools"
      ],
      "metadata": {
        "id": "MjYcpqZJZBiU"
      },
      "execution_count": 3,
      "outputs": []
    },
    {
      "cell_type": "code",
      "source": [
        "def js_divergence(feature_map_1, feature_map_2, reduction='batchmean'):\n",
        "\n",
        "    \"\"\"Jensen-Shannon divergence\"\"\"\n",
        "\n",
        "    # Convert feature maps to probability distributions\n",
        "    p = F.softmax(feature_map_1, dim=1)\n",
        "    q = F.softmax(feature_map_2, dim=1)\n",
        "\n",
        "    # Compute the average distribution\n",
        "    m = 0.5 * (p + q)\n",
        "\n",
        "    # Compute KL divergence for both directions\n",
        "    kl_pm = F.kl_div(torch.log(m + 1e-10), p, reduction=reduction)\n",
        "    kl_qm = F.kl_div(torch.log(m + 1e-10), q, reduction=reduction)\n",
        "\n",
        "    # Compute JS divergence\n",
        "    js_div = 0.5 * (kl_pm + kl_qm)\n",
        "    return js_div"
      ],
      "metadata": {
        "id": "jmuRoa1eY-0v"
      },
      "execution_count": 4,
      "outputs": []
    },
    {
      "cell_type": "code",
      "execution_count": 11,
      "metadata": {
        "colab": {
          "base_uri": "https://localhost:8080/"
        },
        "id": "G_jjcmLmY8AW",
        "outputId": "581a45df-ee3f-47df-a725-973cca1969b4"
      },
      "outputs": [
        {
          "output_type": "stream",
          "name": "stdout",
          "text": [
            "Jensen-Shannon divergence: tensor(4.9071)\n"
          ]
        }
      ],
      "source": [
        "# Dummy feature maps\n",
        "feature_map_1 = torch.randn(25, 64, 5, 5)  # [batch, channels, height, width]\n",
        "feature_map_2 = torch.randn(25, 64, 5, 5)\n",
        "# Compute JS divergence\n",
        "js_div = js_divergence(feature_map_1, feature_map_2)\n",
        "print(\"Jensen-Shannon divergence:\", js_div)"
      ]
    }
  ]
}