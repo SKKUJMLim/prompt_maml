{
 "cells": [
  {
   "cell_type": "code",
   "execution_count": 88,
   "metadata": {
    "id": "g5PRKeDDuvFr"
   },
   "outputs": [],
   "source": [
    "import copy\n",
    "import torch\n",
    "import torch.nn as nn\n",
    "import torch.optim as optim"
   ]
  },
  {
   "cell_type": "code",
   "execution_count": 89,
   "metadata": {
    "id": "5sDE8DI3ua1g"
   },
   "outputs": [],
   "source": [
    "# 간단한 모델 정의\n",
    "class SimpleModel(nn.Module):\n",
    "    def __init__(self):\n",
    "        super(SimpleModel, self).__init__()\n",
    "        self.layer1 = nn.Linear(10, 5)  # Freeze 대상\n",
    "        self.layer2 = nn.Linear(5, 1)  # 학습 대상\n",
    "\n",
    "    def forward(self, x):\n",
    "        x = self.layer1(x)\n",
    "        x = self.layer2(x)\n",
    "        return x\n",
    "\n",
    "# 모델 복사 (두 방법을 독립적으로 실험하기 위해)\n",
    "model1 = SimpleModel()  # requires_grad=False\n",
    "model2 = copy.deepcopy(model1)  # learning_rate=0"
   ]
  },
  {
   "cell_type": "code",
   "execution_count": 90,
   "metadata": {
    "id": "cIwg4xR7ujHw"
   },
   "outputs": [],
   "source": [
    "# 손실 함수\n",
    "criterion = nn.MSELoss()\n",
    "\n",
    "# Optimizer 설정\n",
    "optimizer1 = optim.SGD([\n",
    "    {'params': model1.layer1.parameters(), 'lr': 0.1},  # layer1 학습\n",
    "    {'params': model1.layer2.parameters(), 'lr': 0.1}  # layer2 학습\n",
    "])\n",
    "\n",
    "optimizer2 = optim.SGD([\n",
    "    {'params': model2.layer1.parameters(), 'lr': 0.0},  # layer1 Freeze\n",
    "    {'params': model2.layer2.parameters(), 'lr': 0.1}  # 학습\n",
    "])\n",
    "\n",
    "# 1. requires_grad=False 실험\n",
    "for param in model1.layer1.parameters():\n",
    "    param.requires_grad = False\n",
    "\n",
    "# 입력 데이터와 타깃 생성\n",
    "x = torch.randn(8, 10)  # 입력 데이터\n",
    "y = torch.randn(8, 1)   # 타깃 데이터"
   ]
  },
  {
   "cell_type": "code",
   "execution_count": 91,
   "metadata": {
    "colab": {
     "base_uri": "https://localhost:8080/"
    },
    "id": "BAEYFOXfu7zA",
    "outputId": "f24f4b51-73d1-4551-9dc9-8c010d1ab0ad"
   },
   "outputs": [],
   "source": [
    "# Forward Pass\n",
    "output1 = model1(x)\n",
    "loss1 = criterion(output1, y)\n",
    "\n",
    "output2 = model2(x)\n",
    "loss2 = criterion(output2, y)\n",
    "\n",
    "# Backward Pass\n",
    "loss1.backward()\n",
    "loss2.backward()"
   ]
  },
  {
   "cell_type": "code",
   "execution_count": 92,
   "metadata": {},
   "outputs": [],
   "source": [
    "# Optimizer Step\n",
    "optimizer1.step()  # model1 업데이트\n",
    "optimizer2.step()  # model2 업데이트"
   ]
  },
  {
   "cell_type": "markdown",
   "metadata": {},
   "source": [
    "# Weight 비교"
   ]
  },
  {
   "cell_type": "code",
   "execution_count": 93,
   "metadata": {},
   "outputs": [
    {
     "name": "stdout",
     "output_type": "stream",
     "text": [
      "\n",
      "layer1.weight values comparison:\n",
      "Are weights equal? True\n",
      "\n",
      "layer2.weight values comparison:\n",
      "Are weights equal? True\n"
     ]
    }
   ],
   "source": [
    "# Compare layer1 weights\n",
    "print(\"\\nlayer1.weight values comparison:\")\n",
    "# print(\"model1 (requires_grad=False):\", model1.layer1.weight.data)\n",
    "# print(\"model2 (learning_rate=0):\", model2.layer1.weight.data)\n",
    "print(\"Are weights equal?\", torch.allclose(model1.layer1.weight.data, model2.layer1.weight.data))\n",
    "\n",
    "\n",
    "# Compare layer2 weights\n",
    "print(\"\\nlayer2.weight values comparison:\")\n",
    "# print(\"model1 (requires_grad=False):\", model1.layer2.weight.data)\n",
    "# print(\"model2 (learning_rate=0):\", model2.layer2.weight.data)\n",
    "print(\"Are weights equal?\", torch.allclose(model1.layer2.weight.data, model2.layer2.weight.data))"
   ]
  }
 ],
 "metadata": {
  "colab": {
   "provenance": []
  },
  "kernelspec": {
   "display_name": "Python 3 (ipykernel)",
   "language": "python",
   "name": "python3"
  },
  "language_info": {
   "codemirror_mode": {
    "name": "ipython",
    "version": 3
   },
   "file_extension": ".py",
   "mimetype": "text/x-python",
   "name": "python",
   "nbconvert_exporter": "python",
   "pygments_lexer": "ipython3",
   "version": "3.7.16"
  }
 },
 "nbformat": 4,
 "nbformat_minor": 1
}
