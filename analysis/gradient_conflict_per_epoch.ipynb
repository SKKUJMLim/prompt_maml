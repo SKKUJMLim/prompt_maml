{
 "cells": [
  {
   "cell_type": "code",
   "execution_count": 54,
   "id": "f7fe1667",
   "metadata": {},
   "outputs": [],
   "source": [
    "import os\n",
    "import torch\n",
    "import os\n",
    "import torch\n",
    "import torch.nn.functional as F"
   ]
  },
  {
   "cell_type": "code",
   "execution_count": 55,
   "id": "e7d6e530",
   "metadata": {},
   "outputs": [],
   "source": [
    "def compute_avg_cosine_similarity(epoch: int, layer_name: str, base_path: str):\n",
    "    \"\"\"\n",
    "    Computes and prints the average cosine similarity between each task's gradient and the mean gradient.\n",
    "    \"\"\"\n",
    "    \n",
    "    layer_dir = os.path.join(\n",
    "        base_path,\n",
    "        f\"grad_info_per_epoch\",\n",
    "        f\"epoch{epoch}\",\n",
    "        layer_name\n",
    "    )\n",
    "\n",
    "    grad_list = []\n",
    "    filenames = sorted([\n",
    "        f for f in os.listdir(layer_dir) if f.endswith(\".pt\")\n",
    "    ])\n",
    "\n",
    "    for fname in filenames:\n",
    "        grad = torch.load(os.path.join(layer_dir, fname))  # [D]\n",
    "        grad_list.append(grad)\n",
    "\n",
    "    grads = torch.stack(grad_list)  # [T, D]\n",
    "    grad_mean = grads.mean(dim=0)   # [D]\n",
    "\n",
    "    cos_sims = [F.cosine_similarity(g, grad_mean, dim=0).item() for g in grads]\n",
    "    avg_sim = sum(cos_sims) / len(cos_sims)\n",
    "\n",
    "    print(f\"{layer_name} (epoch {epoch}): Avg cosine similarity = {avg_sim:.4f}\")\n",
    "    \n",
    "    return avg_sim"
   ]
  },
  {
   "cell_type": "code",
   "execution_count": 56,
   "id": "f695f956",
   "metadata": {},
   "outputs": [],
   "source": [
    "def compute_avg_cosine_similarity_over_epochs(layer_name: str, base_path: str, epoch_list: list):\n",
    "    \"\"\"\n",
    "    Computes and prints average cosine similarity for a specific layer across multiple epochs.\n",
    "    \"\"\"\n",
    "    results = {}\n",
    "    for epoch in epoch_list:\n",
    "        try:\n",
    "            avg_sim = compute_avg_cosine_similarity(epoch, layer_name, base_path)\n",
    "            results[epoch] = avg_sim\n",
    "        except Exception as e:\n",
    "            print(f\"[Warning] Epoch {epoch} failed: {e}\")\n",
    "    return results\n"
   ]
  },
  {
   "cell_type": "markdown",
   "id": "7431b627",
   "metadata": {},
   "source": [
    "# MAML"
   ]
  },
  {
   "cell_type": "markdown",
   "id": "ce73f74f",
   "metadata": {},
   "source": [
    "## 특정 epoch에서 cosine 유사도 구하기"
   ]
  },
  {
   "cell_type": "code",
   "execution_count": 57,
   "id": "d5db797e",
   "metadata": {},
   "outputs": [
    {
     "name": "stdout",
     "output_type": "stream",
     "text": [
      "layer_layer_dict_conv0_conv_weight (epoch 0): Avg cosine similarity = 0.0301\n"
     ]
    }
   ],
   "source": [
    "avg_sim = compute_mean_cosine_similarity(\n",
    "    epoch=0,\n",
    "    layer_name=\"layer_layer_dict_conv0_conv_weight\",\n",
    "    base_path=\"../MAML_5way_5shot_filter64_miniImagenet\"\n",
    ")"
   ]
  },
  {
   "cell_type": "markdown",
   "id": "cd3feed7",
   "metadata": {},
   "source": [
    "## 전체 epoch에서 cosine 유사도 구하기"
   ]
  },
  {
   "cell_type": "code",
   "execution_count": 58,
   "id": "64996c1d",
   "metadata": {},
   "outputs": [],
   "source": [
    "base_path = \"../MAML_5way_5shot_filter64_miniImagenet\""
   ]
  },
  {
   "cell_type": "code",
   "execution_count": 59,
   "id": "792e0030",
   "metadata": {},
   "outputs": [
    {
     "name": "stdout",
     "output_type": "stream",
     "text": [
      "layer_layer_dict_conv0_conv_weight (epoch 0): Avg cosine similarity = 0.0301\n",
      "layer_layer_dict_conv0_conv_weight (epoch 1): Avg cosine similarity = 0.0170\n",
      "layer_layer_dict_conv0_conv_weight (epoch 2): Avg cosine similarity = 0.0306\n",
      "layer_layer_dict_conv0_conv_weight (epoch 3): Avg cosine similarity = 0.0337\n"
     ]
    }
   ],
   "source": [
    "layer_name = \"layer_layer_dict_conv0_conv_weight\"\n",
    "epochs = list(range(0, 4))  # 예: 0~9 epoch\n",
    "\n",
    "results = compute_avg_cosine_similarity_over_epochs(layer_name, base_path, epochs)"
   ]
  },
  {
   "cell_type": "code",
   "execution_count": 60,
   "id": "f812ff85",
   "metadata": {},
   "outputs": [
    {
     "name": "stdout",
     "output_type": "stream",
     "text": [
      "layer_layer_dict_conv1_conv_weight (epoch 0): Avg cosine similarity = 0.0289\n",
      "layer_layer_dict_conv1_conv_weight (epoch 1): Avg cosine similarity = 0.0284\n",
      "layer_layer_dict_conv1_conv_weight (epoch 2): Avg cosine similarity = 0.0319\n",
      "layer_layer_dict_conv1_conv_weight (epoch 3): Avg cosine similarity = 0.0331\n"
     ]
    }
   ],
   "source": [
    "layer_name = \"layer_layer_dict_conv1_conv_weight\"\n",
    "epochs = list(range(0, 4))  # 예: 0~9 epoch\n",
    "\n",
    "results = compute_avg_cosine_similarity_over_epochs(layer_name, base_path, epochs)"
   ]
  },
  {
   "cell_type": "code",
   "execution_count": 61,
   "id": "006fece8",
   "metadata": {},
   "outputs": [
    {
     "name": "stdout",
     "output_type": "stream",
     "text": [
      "layer_layer_dict_conv2_conv_weight (epoch 0): Avg cosine similarity = 0.0296\n",
      "layer_layer_dict_conv2_conv_weight (epoch 1): Avg cosine similarity = 0.0280\n",
      "layer_layer_dict_conv2_conv_weight (epoch 2): Avg cosine similarity = 0.0316\n",
      "layer_layer_dict_conv2_conv_weight (epoch 3): Avg cosine similarity = 0.0320\n"
     ]
    }
   ],
   "source": [
    "layer_name = \"layer_layer_dict_conv2_conv_weight\"\n",
    "epochs = list(range(0, 4))  # 예: 0~9 epoch\n",
    "\n",
    "results = compute_avg_cosine_similarity_over_epochs(layer_name, base_path, epochs)"
   ]
  },
  {
   "cell_type": "code",
   "execution_count": 62,
   "id": "0a0d2277",
   "metadata": {},
   "outputs": [
    {
     "name": "stdout",
     "output_type": "stream",
     "text": [
      "layer_layer_dict_conv3_conv_weight (epoch 0): Avg cosine similarity = 0.0321\n",
      "layer_layer_dict_conv3_conv_weight (epoch 1): Avg cosine similarity = 0.0281\n",
      "layer_layer_dict_conv3_conv_weight (epoch 2): Avg cosine similarity = 0.0327\n",
      "layer_layer_dict_conv3_conv_weight (epoch 3): Avg cosine similarity = 0.0305\n"
     ]
    }
   ],
   "source": [
    "layer_name = \"layer_layer_dict_conv3_conv_weight\"\n",
    "epochs = list(range(0, 4))  # 예: 0~9 epoch\n",
    "\n",
    "results = compute_avg_cosine_similarity_over_epochs(layer_name, base_path, epochs)"
   ]
  },
  {
   "cell_type": "code",
   "execution_count": 63,
   "id": "64a65a2a",
   "metadata": {},
   "outputs": [
    {
     "name": "stdout",
     "output_type": "stream",
     "text": [
      "layer_layer_dict_linear_weights (epoch 0): Avg cosine similarity = 0.0256\n",
      "layer_layer_dict_linear_weights (epoch 1): Avg cosine similarity = 0.0184\n",
      "layer_layer_dict_linear_weights (epoch 2): Avg cosine similarity = 0.0203\n",
      "layer_layer_dict_linear_weights (epoch 3): Avg cosine similarity = 0.0184\n"
     ]
    }
   ],
   "source": [
    "layer_name = \"layer_layer_dict_linear_weights\"\n",
    "epochs = list(range(0, 4))  # 예: 0~9 epoch\n",
    "\n",
    "results = compute_avg_cosine_similarity_over_epochs(layer_name, base_path, epochs)"
   ]
  },
  {
   "cell_type": "markdown",
   "id": "1bcee293",
   "metadata": {},
   "source": [
    "# Our"
   ]
  },
  {
   "cell_type": "markdown",
   "id": "6805f881",
   "metadata": {},
   "source": [
    "## 특정 epoch에서 cosine 유사도 구하기"
   ]
  },
  {
   "cell_type": "code",
   "execution_count": 64,
   "id": "6cc7aa90",
   "metadata": {},
   "outputs": [
    {
     "name": "stdout",
     "output_type": "stream",
     "text": [
      "layer_layer_dict_conv0_conv_weight (epoch 0): Avg cosine similarity = 0.0231\n"
     ]
    }
   ],
   "source": [
    "avg_sim = compute_mean_cosine_similarity(\n",
    "    epoch=0,\n",
    "    layer_name=\"layer_layer_dict_conv0_conv_weight\",\n",
    "    base_path=\"../MAML_Prompt_padding_5way_5shot_filter128_miniImagenet\"\n",
    ")"
   ]
  },
  {
   "cell_type": "markdown",
   "id": "4050ecb5",
   "metadata": {},
   "source": [
    "## 전체 epoch에서 cosine 유사도 구하기"
   ]
  },
  {
   "cell_type": "code",
   "execution_count": 65,
   "id": "1e3f32a6",
   "metadata": {},
   "outputs": [],
   "source": [
    "base_path = \"../MAML_Prompt_padding_5way_5shot_filter128_miniImagenet\""
   ]
  },
  {
   "cell_type": "code",
   "execution_count": 71,
   "id": "602383ad",
   "metadata": {},
   "outputs": [
    {
     "name": "stdout",
     "output_type": "stream",
     "text": [
      "layer_layer_dict_conv0_conv_weight (epoch 0): Avg cosine similarity = 0.0231\n",
      "layer_layer_dict_conv0_conv_weight (epoch 1): Avg cosine similarity = 0.0443\n",
      "layer_layer_dict_conv0_conv_weight (epoch 2): Avg cosine similarity = 0.0454\n"
     ]
    }
   ],
   "source": [
    "layer_name = \"layer_layer_dict_conv0_conv_weight\"\n",
    "epochs = list(range(0, 3))  # 예: 0~9 epoch\n",
    "\n",
    "results = compute_avg_cosine_similarity_over_epochs(layer_name, base_path, epochs)"
   ]
  },
  {
   "cell_type": "code",
   "execution_count": 72,
   "id": "431ba77a",
   "metadata": {},
   "outputs": [
    {
     "name": "stdout",
     "output_type": "stream",
     "text": [
      "layer_layer_dict_conv1_conv_weight (epoch 0): Avg cosine similarity = 0.0075\n",
      "layer_layer_dict_conv1_conv_weight (epoch 1): Avg cosine similarity = 0.0393\n",
      "layer_layer_dict_conv1_conv_weight (epoch 2): Avg cosine similarity = 0.0388\n"
     ]
    }
   ],
   "source": [
    "layer_name = \"layer_layer_dict_conv1_conv_weight\"\n",
    "epochs = list(range(0, 3))  # 예: 0~9 epoch\n",
    "\n",
    "results = compute_avg_cosine_similarity_over_epochs(layer_name, base_path, epochs)"
   ]
  },
  {
   "cell_type": "code",
   "execution_count": 74,
   "id": "8be67192",
   "metadata": {},
   "outputs": [
    {
     "name": "stdout",
     "output_type": "stream",
     "text": [
      "layer_layer_dict_conv2_conv_weight (epoch 0): Avg cosine similarity = 0.0108\n",
      "layer_layer_dict_conv2_conv_weight (epoch 1): Avg cosine similarity = 0.0362\n",
      "layer_layer_dict_conv2_conv_weight (epoch 2): Avg cosine similarity = 0.0369\n"
     ]
    }
   ],
   "source": [
    "layer_name = \"layer_layer_dict_conv2_conv_weight\"\n",
    "epochs = list(range(0, 3))  # 예: 0~9 epoch\n",
    "\n",
    "results = compute_avg_cosine_similarity_over_epochs(layer_name, base_path, epochs)"
   ]
  },
  {
   "cell_type": "code",
   "execution_count": 75,
   "id": "b24c5774",
   "metadata": {},
   "outputs": [
    {
     "name": "stdout",
     "output_type": "stream",
     "text": [
      "layer_layer_dict_conv3_conv_weight (epoch 0): Avg cosine similarity = 0.0134\n",
      "layer_layer_dict_conv3_conv_weight (epoch 1): Avg cosine similarity = 0.0369\n",
      "layer_layer_dict_conv3_conv_weight (epoch 2): Avg cosine similarity = 0.0392\n"
     ]
    }
   ],
   "source": [
    "layer_name = \"layer_layer_dict_conv3_conv_weight\"\n",
    "epochs = list(range(0, 3))  # 예: 0~9 epoch\n",
    "\n",
    "results = compute_avg_cosine_similarity_over_epochs(layer_name, base_path, epochs)"
   ]
  },
  {
   "cell_type": "code",
   "execution_count": 76,
   "id": "6c7019ef",
   "metadata": {},
   "outputs": [
    {
     "name": "stdout",
     "output_type": "stream",
     "text": [
      "layer_layer_dict_linear_weights (epoch 0): Avg cosine similarity = 0.0054\n",
      "layer_layer_dict_linear_weights (epoch 1): Avg cosine similarity = 0.0224\n",
      "layer_layer_dict_linear_weights (epoch 2): Avg cosine similarity = 0.0303\n"
     ]
    }
   ],
   "source": [
    "layer_name = \"layer_layer_dict_linear_weights\"\n",
    "epochs = list(range(0, 3))  # 예: 0~9 epoch\n",
    "\n",
    "results = compute_avg_cosine_similarity_over_epochs(layer_name, base_path, epochs)"
   ]
  }
 ],
 "metadata": {
  "kernelspec": {
   "display_name": "Python 3 (ipykernel)",
   "language": "python",
   "name": "python3"
  },
  "language_info": {
   "codemirror_mode": {
    "name": "ipython",
    "version": 3
   },
   "file_extension": ".py",
   "mimetype": "text/x-python",
   "name": "python",
   "nbconvert_exporter": "python",
   "pygments_lexer": "ipython3",
   "version": "3.7.16"
  }
 },
 "nbformat": 4,
 "nbformat_minor": 5
}
