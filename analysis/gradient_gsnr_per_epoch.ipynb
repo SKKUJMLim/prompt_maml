{
 "cells": [
  {
   "cell_type": "code",
   "execution_count": 97,
   "id": "ddc71e2a",
   "metadata": {},
   "outputs": [],
   "source": [
    "import os\n",
    "import torch"
   ]
  },
  {
   "cell_type": "code",
   "execution_count": 98,
   "id": "2f46fb12",
   "metadata": {},
   "outputs": [],
   "source": [
    "def compute_gsnr(epoch: int, layer_name: str, base_path: str, epsilon=1e-8):\n",
    "    \"\"\"\n",
    "    Computes GSNR for a given layer at a given epoch.\n",
    "    \"\"\"\n",
    "    layer_dir = os.path.join(\n",
    "        base_path,\n",
    "        f\"grad_info_per_epoch\",\n",
    "        f\"epoch{epoch}\",\n",
    "        layer_name\n",
    "    )\n",
    "\n",
    "    grad_list = []\n",
    "    filenames = sorted([\n",
    "        f for f in os.listdir(layer_dir) if f.endswith(\".pt\")\n",
    "    ])\n",
    "\n",
    "    for fname in filenames:\n",
    "        grad = torch.load(os.path.join(layer_dir, fname))  # [D]\n",
    "        grad_list.append(grad)\n",
    "\n",
    "    grads = torch.stack(grad_list)  # [T, D]\n",
    "    grad_mean = grads.mean(dim=0)   # [D]\n",
    "\n",
    "    signal = grad_mean.mean().item() ** 2\n",
    "    noise = grad_mean.var().item() + epsilon\n",
    "    gsnr = signal / noise\n",
    "\n",
    "    print(f\"{layer_name} (epoch {epoch}): GSNR = {gsnr:.6f}\")\n",
    "    return gsnr"
   ]
  },
  {
   "cell_type": "code",
   "execution_count": 99,
   "id": "2d4aff51",
   "metadata": {},
   "outputs": [],
   "source": [
    "def compute_gsnr_over_epochs(layer_name: str, base_path: str, epoch_list: list):\n",
    "    \"\"\"\n",
    "    Computes and prints GSNR for a specific layer across multiple epochs.\n",
    "    \"\"\"\n",
    "    results = {}\n",
    "    for epoch in epoch_list:\n",
    "        try:\n",
    "            gsnr = compute_gsnr(epoch, layer_name, base_path)\n",
    "            results[epoch] = gsnr\n",
    "        except Exception as e:\n",
    "            print(f\"[Warning] Epoch {epoch} failed: {e}\")\n",
    "    return results\n"
   ]
  },
  {
   "cell_type": "markdown",
   "id": "10023a06",
   "metadata": {},
   "source": [
    "# MAML"
   ]
  },
  {
   "cell_type": "code",
   "execution_count": 100,
   "id": "712d252a",
   "metadata": {},
   "outputs": [],
   "source": [
    "base_path = \"../MAML_5way_5shot_filter64_miniImagenet\"\n",
    "epochs = list(range(0, 3))  # 예: 0~9 epoch"
   ]
  },
  {
   "cell_type": "code",
   "execution_count": 101,
   "id": "8128cf8d",
   "metadata": {},
   "outputs": [
    {
     "name": "stdout",
     "output_type": "stream",
     "text": [
      "layer_layer_dict_conv0_conv_weight (epoch 0): GSNR = 0.044766\n"
     ]
    },
    {
     "data": {
      "text/plain": [
       "0.04476636962336588"
      ]
     },
     "execution_count": 101,
     "metadata": {},
     "output_type": "execute_result"
    }
   ],
   "source": [
    "compute_gsnr(\n",
    "    epoch=0,\n",
    "    layer_name=\"layer_layer_dict_conv0_conv_weight\",\n",
    "    base_path=our_base_path\n",
    ")"
   ]
  },
  {
   "cell_type": "code",
   "execution_count": 102,
   "id": "d85d8a3e",
   "metadata": {},
   "outputs": [
    {
     "name": "stdout",
     "output_type": "stream",
     "text": [
      "layer_layer_dict_conv0_conv_weight (epoch 0): GSNR = 0.163490\n",
      "layer_layer_dict_conv0_conv_weight (epoch 1): GSNR = 0.060648\n",
      "layer_layer_dict_conv0_conv_weight (epoch 2): GSNR = 0.368776\n"
     ]
    }
   ],
   "source": [
    "layer_name = \"layer_layer_dict_conv0_conv_weight\"\n",
    "gsnr_results = compute_gsnr_over_epochs(layer_name, base_path, epochs)"
   ]
  },
  {
   "cell_type": "code",
   "execution_count": 103,
   "id": "bbdc180c",
   "metadata": {},
   "outputs": [
    {
     "name": "stdout",
     "output_type": "stream",
     "text": [
      "layer_layer_dict_conv1_conv_weight (epoch 0): GSNR = 0.015686\n",
      "layer_layer_dict_conv1_conv_weight (epoch 1): GSNR = 0.044903\n",
      "layer_layer_dict_conv1_conv_weight (epoch 2): GSNR = 0.083064\n"
     ]
    }
   ],
   "source": [
    "layer_name = \"layer_layer_dict_conv1_conv_weight\"\n",
    "gsnr_results = compute_gsnr_over_epochs(layer_name, base_path, epochs)"
   ]
  },
  {
   "cell_type": "code",
   "execution_count": 104,
   "id": "bc7b342a",
   "metadata": {},
   "outputs": [
    {
     "name": "stdout",
     "output_type": "stream",
     "text": [
      "layer_layer_dict_conv2_conv_weight (epoch 0): GSNR = 0.016997\n",
      "layer_layer_dict_conv2_conv_weight (epoch 1): GSNR = 0.007760\n",
      "layer_layer_dict_conv2_conv_weight (epoch 2): GSNR = 0.013834\n"
     ]
    }
   ],
   "source": [
    "layer_name = \"layer_layer_dict_conv2_conv_weight\"\n",
    "gsnr_results = compute_gsnr_over_epochs(layer_name, base_path, epochs)"
   ]
  },
  {
   "cell_type": "code",
   "execution_count": 105,
   "id": "3e54375e",
   "metadata": {},
   "outputs": [
    {
     "name": "stdout",
     "output_type": "stream",
     "text": [
      "layer_layer_dict_conv3_conv_weight (epoch 0): GSNR = 0.001702\n",
      "layer_layer_dict_conv3_conv_weight (epoch 1): GSNR = 0.000643\n",
      "layer_layer_dict_conv3_conv_weight (epoch 2): GSNR = 0.024073\n"
     ]
    }
   ],
   "source": [
    "layer_name = \"layer_layer_dict_conv3_conv_weight\"\n",
    "gsnr_results = compute_gsnr_over_epochs(layer_name, base_path, epochs)"
   ]
  },
  {
   "cell_type": "code",
   "execution_count": 106,
   "id": "4ed1008b",
   "metadata": {},
   "outputs": [
    {
     "name": "stdout",
     "output_type": "stream",
     "text": [
      "layer_layer_dict_linear_weights (epoch 0): GSNR = 0.000000\n",
      "layer_layer_dict_linear_weights (epoch 1): GSNR = 0.000000\n",
      "layer_layer_dict_linear_weights (epoch 2): GSNR = 0.000000\n"
     ]
    }
   ],
   "source": [
    "layer_name = \"layer_layer_dict_linear_weights\"\n",
    "gsnr_results = compute_gsnr_over_epochs(layer_name, base_path, epochs)"
   ]
  },
  {
   "cell_type": "markdown",
   "id": "2313d368",
   "metadata": {},
   "source": [
    "# Our"
   ]
  },
  {
   "cell_type": "code",
   "execution_count": 107,
   "id": "75db310d",
   "metadata": {},
   "outputs": [],
   "source": [
    "our_base_path = \"../MAML_Prompt_padding_5way_5shot_filter128_miniImagenet\""
   ]
  },
  {
   "cell_type": "code",
   "execution_count": 108,
   "id": "2e686074",
   "metadata": {},
   "outputs": [
    {
     "name": "stdout",
     "output_type": "stream",
     "text": [
      "layer_layer_dict_conv0_conv_weight (epoch 0): GSNR = 0.044766\n"
     ]
    },
    {
     "data": {
      "text/plain": [
       "0.04476636962336588"
      ]
     },
     "execution_count": 108,
     "metadata": {},
     "output_type": "execute_result"
    }
   ],
   "source": [
    "compute_gsnr(\n",
    "    epoch=0,\n",
    "    layer_name=\"layer_layer_dict_conv0_conv_weight\",\n",
    "    base_path=our_base_path\n",
    ")"
   ]
  },
  {
   "cell_type": "code",
   "execution_count": 109,
   "id": "dddf951d",
   "metadata": {},
   "outputs": [
    {
     "name": "stdout",
     "output_type": "stream",
     "text": [
      "layer_layer_dict_conv0_conv_weight (epoch 0): GSNR = 0.044766\n",
      "layer_layer_dict_conv0_conv_weight (epoch 1): GSNR = 0.224419\n",
      "layer_layer_dict_conv0_conv_weight (epoch 2): GSNR = 0.453997\n"
     ]
    }
   ],
   "source": [
    "layer_name = \"layer_layer_dict_conv0_conv_weight\"\n",
    "gsnr_results = compute_gsnr_over_epochs(layer_name, our_base_path, epochs)"
   ]
  },
  {
   "cell_type": "code",
   "execution_count": 110,
   "id": "3af02a9f",
   "metadata": {},
   "outputs": [
    {
     "name": "stdout",
     "output_type": "stream",
     "text": [
      "layer_layer_dict_conv1_conv_weight (epoch 0): GSNR = 0.005074\n",
      "layer_layer_dict_conv1_conv_weight (epoch 1): GSNR = 0.028651\n",
      "layer_layer_dict_conv1_conv_weight (epoch 2): GSNR = 0.081176\n"
     ]
    }
   ],
   "source": [
    "layer_name = \"layer_layer_dict_conv1_conv_weight\"\n",
    "gsnr_results = compute_gsnr_over_epochs(layer_name, our_base_path, epochs)"
   ]
  },
  {
   "cell_type": "code",
   "execution_count": 111,
   "id": "423fa762",
   "metadata": {},
   "outputs": [
    {
     "name": "stdout",
     "output_type": "stream",
     "text": [
      "layer_layer_dict_conv2_conv_weight (epoch 0): GSNR = 0.001356\n",
      "layer_layer_dict_conv2_conv_weight (epoch 1): GSNR = 0.009594\n",
      "layer_layer_dict_conv2_conv_weight (epoch 2): GSNR = 0.009650\n"
     ]
    }
   ],
   "source": [
    "layer_name = \"layer_layer_dict_conv2_conv_weight\"\n",
    "gsnr_results = compute_gsnr_over_epochs(layer_name, our_base_path, epochs)"
   ]
  },
  {
   "cell_type": "code",
   "execution_count": 112,
   "id": "612a7706",
   "metadata": {},
   "outputs": [
    {
     "name": "stdout",
     "output_type": "stream",
     "text": [
      "layer_layer_dict_conv3_conv_weight (epoch 0): GSNR = 0.007721\n",
      "layer_layer_dict_conv3_conv_weight (epoch 1): GSNR = 0.010351\n",
      "layer_layer_dict_conv3_conv_weight (epoch 2): GSNR = 0.018344\n"
     ]
    }
   ],
   "source": [
    "layer_name = \"layer_layer_dict_conv3_conv_weight\"\n",
    "gsnr_results = compute_gsnr_over_epochs(layer_name, our_base_path, epochs)"
   ]
  },
  {
   "cell_type": "code",
   "execution_count": 113,
   "id": "666eee0b",
   "metadata": {},
   "outputs": [
    {
     "name": "stdout",
     "output_type": "stream",
     "text": [
      "layer_layer_dict_linear_weights (epoch 0): GSNR = 0.000000\n",
      "layer_layer_dict_linear_weights (epoch 1): GSNR = 0.000000\n",
      "layer_layer_dict_linear_weights (epoch 2): GSNR = 0.000000\n"
     ]
    }
   ],
   "source": [
    "layer_name = \"layer_layer_dict_linear_weights\"\n",
    "gsnr_results = compute_gsnr_over_epochs(layer_name, our_base_path, epochs)"
   ]
  }
 ],
 "metadata": {
  "kernelspec": {
   "display_name": "Python 3 (ipykernel)",
   "language": "python",
   "name": "python3"
  },
  "language_info": {
   "codemirror_mode": {
    "name": "ipython",
    "version": 3
   },
   "file_extension": ".py",
   "mimetype": "text/x-python",
   "name": "python",
   "nbconvert_exporter": "python",
   "pygments_lexer": "ipython3",
   "version": "3.7.16"
  }
 },
 "nbformat": 4,
 "nbformat_minor": 5
}
